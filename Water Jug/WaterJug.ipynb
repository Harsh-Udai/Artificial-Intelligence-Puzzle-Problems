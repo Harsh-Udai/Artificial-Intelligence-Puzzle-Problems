{
 "cells": [
  {
   "cell_type": "code",
   "execution_count": 1,
   "source": [
    "# Contributor: Harsh Udai :)\r\n",
    "\r\n",
    "# Water Jug Puzzle Problem\r\n",
    "# Approch-------\r\n",
    "# 1. General state creation.\r\n",
    "# 2. Graph Creation from states.\r\n",
    "# 3. Depth First Search."
   ],
   "outputs": [],
   "metadata": {}
  },
  {
   "cell_type": "code",
   "execution_count": 2,
   "source": [
    "class waterJug:\r\n",
    "    def __init__(self,cap_x,cap_y,dest_x,dest_y):\r\n",
    "        # Setting up the Capacity\r\n",
    "        self.capacityX=cap_x\r\n",
    "        self.capacityY=cap_y\r\n",
    "\r\n",
    "        # Setting up the Destiny\r\n",
    "        self.destX=dest_x\r\n",
    "        self.destY=dest_y\r\n",
    "        \r\n",
    "        # Setting up the initial state\r\n",
    "        self.ini_X=0\r\n",
    "        self.ini_Y=0\r\n",
    "        \r\n",
    "        # Additional Props\r\n",
    "        self.graph = {}\r\n",
    "        self.final = []\r\n",
    "        \r\n",
    "    def error(self):\r\n",
    "        return (\"Not Applicable here!\")\r\n",
    "        \r\n",
    "    def filling_X(self,x,y):\r\n",
    "        if(x==0): # x < self.capacityX\r\n",
    "            x = self.capacityX\r\n",
    "            y = y\r\n",
    "            return x,y\r\n",
    "        else:\r\n",
    "            self.error()\r\n",
    "    \r\n",
    "    def filling_Y(self,x,y):\r\n",
    "        if(y==0): # y < self.capacityY\r\n",
    "            y=self.capacityY\r\n",
    "            x=x\r\n",
    "            return x,y\r\n",
    "        else:\r\n",
    "            self.error()\r\n",
    "            \r\n",
    "    def empty_X(self,x,y):\r\n",
    "        if(x > 0):\r\n",
    "            x = 0\r\n",
    "            return x,y\r\n",
    "        else:\r\n",
    "            self.error()\r\n",
    "            \r\n",
    "    def empty_Y(self,x,y):\r\n",
    "        if(y > 0):\r\n",
    "            y = 0\r\n",
    "            return x,y\r\n",
    "        else:\r\n",
    "            self.error()\r\n",
    "\r\n",
    "    def pour_X_Y(self,x,y):\r\n",
    "        if( 0 < x+y >= self.capacityY and x > 0):\r\n",
    "            x = x-(self.capacityY - y)\r\n",
    "            y = self.capacityY\r\n",
    "            return x,y\r\n",
    "        else:\r\n",
    "            self.error()\r\n",
    "    \r\n",
    "    def pour_Y_X(self,x,y):\r\n",
    "        if( 0 < x+y >= self.capacityX and y > 0):\r\n",
    "            y = y-(self.capacityX-x)\r\n",
    "            x = self.capacityX\r\n",
    "            return x,y\r\n",
    "        else:\r\n",
    "            self.error()\r\n",
    "            \r\n",
    "    def pour_full_X_Y(self,x,y):\r\n",
    "        if( 0 < x+y <= self.capacityX and y >= 0):\r\n",
    "            x = x+y\r\n",
    "            y = 0\r\n",
    "            return x,y\r\n",
    "        else:\r\n",
    "            self.error()\r\n",
    "            \r\n",
    "    def pour_full_Y_X(self,x,y):\r\n",
    "        if( 0 < x+y <= self.capacityY and x >= 0):\r\n",
    "            y = x+y\r\n",
    "            x = 0\r\n",
    "            return x,y\r\n",
    "        else:\r\n",
    "            self.error()\r\n",
    "            \r\n",
    "    def checker(self):\r\n",
    "        print(self.ini_X,self.ini_Y)\r\n",
    "        \r\n",
    "    # Graph related work\r\n",
    "    def addNetwork(self,u1,v1,u2,v2):\r\n",
    "        if(self.graph.get((u1,v1)) == None):\r\n",
    "            self.graph[(u1,v1)] = []\r\n",
    "            self.graph[(u1,v1)].append((u2,v2))\r\n",
    "        else:\r\n",
    "            self.graph[(u1,v1)].append((u2,v2))\r\n",
    "            \r\n",
    "    def check_graph(self):\r\n",
    "        return self.graph\r\n",
    "    \r\n",
    "    # DFS Technique\r\n",
    "    def DFSUtil(self, u,v, visited,l):\r\n",
    "\r\n",
    "        visited.add((u,v))\r\n",
    "        l.append((u,v))\r\n",
    "        print(u,v,\" \", end=' ')\r\n",
    "\r\n",
    "        if((u,v)==(self.destX,self.destY)):\r\n",
    "            self.final = [i for i in l]\r\n",
    "            \r\n",
    "        if(self.graph.get((u,v))!=None):\r\n",
    "            for neighbour in self.graph[(u,v)]:\r\n",
    "                if neighbour[0] not in visited and neighbour[1] not in visited:\r\n",
    "                    self.DFSUtil(neighbour[0],neighbour[1], visited,l)\r\n",
    "\r\n",
    "        else:\r\n",
    "            l.pop()\r\n",
    "            \r\n",
    "    def DFS(self, u,v):\r\n",
    "        visited = set()\r\n",
    "        l=[]\r\n",
    "        self.DFSUtil(u,v, visited,l)\r\n",
    "            \r\n",
    "    def ans_(self):\r\n",
    "        return self.final\r\n",
    "\r\n",
    "    def state_Create(self):\r\n",
    "\r\n",
    "        a,b=self.ini_X,self.ini_Y\r\n",
    "        ans_arr = [(0,0)]\r\n",
    "        k=0\r\n",
    "\r\n",
    "        while(True):\r\n",
    "            length = len(ans_arr)\r\n",
    "            \r\n",
    "            l=WJ.filling_X(a,b)\r\n",
    "\r\n",
    "            if(l not in ans_arr and l!=None):\r\n",
    "                ans_arr.append(l)\r\n",
    "                WJ.addNetwork(a,b,l[0],l[1])\r\n",
    "                \r\n",
    "            l=WJ.filling_Y(a,b)\r\n",
    "\r\n",
    "            if(l not in ans_arr and l!=None):\r\n",
    "                ans_arr.append(l)\r\n",
    "                WJ.addNetwork(a,b,l[0],l[1])\r\n",
    "                \r\n",
    "            l=WJ.empty_X(a,b)\r\n",
    "\r\n",
    "            if(l not in ans_arr and l!=None):\r\n",
    "                ans_arr.append(l)\r\n",
    "                WJ.addNetwork(a,b,l[0],l[1])\r\n",
    "                \r\n",
    "            l=WJ.empty_Y(a,b)\r\n",
    "\r\n",
    "            if(l not in ans_arr and l!=None):\r\n",
    "                ans_arr.append(l)\r\n",
    "                WJ.addNetwork(a,b,l[0],l[1])\r\n",
    "                \r\n",
    "            l=WJ.pour_X_Y(a,b)\r\n",
    "\r\n",
    "            if(l not in ans_arr and l!=None):\r\n",
    "                ans_arr.append(l)\r\n",
    "                WJ.addNetwork(a,b,l[0],l[1])\r\n",
    "                \r\n",
    "            l=WJ.pour_Y_X(a,b)\r\n",
    "\r\n",
    "            if(l not in ans_arr and l!=None):\r\n",
    "                ans_arr.append(l)\r\n",
    "                WJ.addNetwork(a,b,l[0],l[1])\r\n",
    "                \r\n",
    "            l=WJ.pour_full_X_Y(a,b)\r\n",
    "\r\n",
    "            if(l not in ans_arr and l!=None):\r\n",
    "                ans_arr.append(l)\r\n",
    "                WJ.addNetwork(a,b,l[0],l[1])\r\n",
    "                \r\n",
    "            l=WJ.pour_full_Y_X(a,b)\r\n",
    "\r\n",
    "            if(l not in ans_arr and l!=None):\r\n",
    "                ans_arr.append(l)\r\n",
    "                WJ.addNetwork(a,b,l[0],l[1])\r\n",
    "            \r\n",
    "            if(k == len(ans_arr)):\r\n",
    "                break\r\n",
    "                \r\n",
    "            else:\r\n",
    "                k+=1\r\n",
    "        #         print(k)\r\n",
    "                if(k == len(ans_arr)):\r\n",
    "                    break\r\n",
    "                a,b = ans_arr[k]\r\n",
    "        #         print(WJ.check_graph())\r\n",
    "        #         print(\"a,b\",a,b)\r\n",
    "        return (ans_arr)\r\n"
   ],
   "outputs": [],
   "metadata": {}
  },
  {
   "cell_type": "code",
   "execution_count": 3,
   "source": [
    "# Input here the capacity/water contain in both 2 Jugs left and right side\r\n",
    "WJ = waterJug(4,3,2,3)"
   ],
   "outputs": [],
   "metadata": {}
  },
  {
   "cell_type": "code",
   "execution_count": 4,
   "source": [
    "WJ.state_Create()"
   ],
   "outputs": [
    {
     "output_type": "execute_result",
     "data": {
      "text/plain": [
       "[(0, 0),\n",
       " (4, 0),\n",
       " (0, 3),\n",
       " (4, 3),\n",
       " (1, 3),\n",
       " (3, 0),\n",
       " (1, 0),\n",
       " (3, 3),\n",
       " (0, 1),\n",
       " (4, 2),\n",
       " (4, 1),\n",
       " (0, 2),\n",
       " (2, 3),\n",
       " (2, 0)]"
      ]
     },
     "metadata": {},
     "execution_count": 4
    }
   ],
   "metadata": {}
  },
  {
   "cell_type": "code",
   "execution_count": 5,
   "source": [
    "WJ.check_graph()"
   ],
   "outputs": [
    {
     "output_type": "execute_result",
     "data": {
      "text/plain": [
       "{(0, 0): [(4, 0), (0, 3)],\n",
       " (4, 0): [(4, 3), (1, 3)],\n",
       " (0, 3): [(3, 0)],\n",
       " (1, 3): [(1, 0)],\n",
       " (3, 0): [(3, 3)],\n",
       " (1, 0): [(0, 1)],\n",
       " (3, 3): [(4, 2)],\n",
       " (0, 1): [(4, 1)],\n",
       " (4, 2): [(0, 2)],\n",
       " (4, 1): [(2, 3)],\n",
       " (0, 2): [(2, 0)]}"
      ]
     },
     "metadata": {},
     "execution_count": 5
    }
   ],
   "metadata": {}
  },
  {
   "cell_type": "code",
   "execution_count": 6,
   "source": [
    "WJ.DFS(0,0)"
   ],
   "outputs": [
    {
     "output_type": "stream",
     "name": "stdout",
     "text": [
      "0 0   4 0   4 3   1 3   1 0   0 1   4 1   2 3   0 3   3 0   3 3   4 2   0 2   2 0   "
     ]
    }
   ],
   "metadata": {}
  },
  {
   "cell_type": "code",
   "execution_count": 7,
   "source": [
    "# Final Path/required ans is here.\r\n",
    "WJ.ans_()"
   ],
   "outputs": [
    {
     "output_type": "execute_result",
     "data": {
      "text/plain": [
       "[(0, 0), (4, 0), (1, 3), (1, 0), (0, 1), (4, 1), (2, 3)]"
      ]
     },
     "metadata": {},
     "execution_count": 7
    }
   ],
   "metadata": {}
  }
 ],
 "metadata": {
  "orig_nbformat": 4,
  "language_info": {
   "name": "python",
   "version": "3.8.3",
   "mimetype": "text/x-python",
   "codemirror_mode": {
    "name": "ipython",
    "version": 3
   },
   "pygments_lexer": "ipython3",
   "nbconvert_exporter": "python",
   "file_extension": ".py"
  },
  "kernelspec": {
   "name": "python3",
   "display_name": "Python 3.8.3 32-bit"
  },
  "interpreter": {
   "hash": "1108e07560c816db3f292dfdcdd2a77461e2626b1e081309fb4cec7b75e73e64"
  }
 },
 "nbformat": 4,
 "nbformat_minor": 2
}